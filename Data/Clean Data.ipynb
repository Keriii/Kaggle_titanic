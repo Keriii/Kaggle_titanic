{
 "cells": [
  {
   "cell_type": "markdown",
   "metadata": {},
   "source": [
    "## In this notebook, we will process and clean the raw data that is provided to train the model.\n",
    "\n",
    "* To begine with, first lets load the data and display the first few lines to know what we are working with."
   ]
  },
  {
   "cell_type": "code",
   "execution_count": 2,
   "metadata": {},
   "outputs": [],
   "source": [
    "import pandas as pd\n",
    "import seaborn as sns\n",
    "import matplotlib.pyplot as plt"
   ]
  },
  {
   "cell_type": "code",
   "execution_count": 3,
   "metadata": {},
   "outputs": [
    {
     "data": {
      "text/html": [
       "<div>\n",
       "<style scoped>\n",
       "    .dataframe tbody tr th:only-of-type {\n",
       "        vertical-align: middle;\n",
       "    }\n",
       "\n",
       "    .dataframe tbody tr th {\n",
       "        vertical-align: top;\n",
       "    }\n",
       "\n",
       "    .dataframe thead th {\n",
       "        text-align: right;\n",
       "    }\n",
       "</style>\n",
       "<table border=\"1\" class=\"dataframe\">\n",
       "  <thead>\n",
       "    <tr style=\"text-align: right;\">\n",
       "      <th></th>\n",
       "      <th>PassengerId</th>\n",
       "      <th>Survived</th>\n",
       "      <th>Pclass</th>\n",
       "      <th>Name</th>\n",
       "      <th>Sex</th>\n",
       "      <th>Age</th>\n",
       "      <th>SibSp</th>\n",
       "      <th>Parch</th>\n",
       "      <th>Ticket</th>\n",
       "      <th>Fare</th>\n",
       "      <th>Cabin</th>\n",
       "      <th>Embarked</th>\n",
       "    </tr>\n",
       "  </thead>\n",
       "  <tbody>\n",
       "    <tr>\n",
       "      <th>0</th>\n",
       "      <td>1</td>\n",
       "      <td>0</td>\n",
       "      <td>3</td>\n",
       "      <td>Braund, Mr. Owen Harris</td>\n",
       "      <td>male</td>\n",
       "      <td>22.0</td>\n",
       "      <td>1</td>\n",
       "      <td>0</td>\n",
       "      <td>A/5 21171</td>\n",
       "      <td>7.2500</td>\n",
       "      <td>NaN</td>\n",
       "      <td>S</td>\n",
       "    </tr>\n",
       "    <tr>\n",
       "      <th>1</th>\n",
       "      <td>2</td>\n",
       "      <td>1</td>\n",
       "      <td>1</td>\n",
       "      <td>Cumings, Mrs. John Bradley (Florence Briggs Th...</td>\n",
       "      <td>female</td>\n",
       "      <td>38.0</td>\n",
       "      <td>1</td>\n",
       "      <td>0</td>\n",
       "      <td>PC 17599</td>\n",
       "      <td>71.2833</td>\n",
       "      <td>C85</td>\n",
       "      <td>C</td>\n",
       "    </tr>\n",
       "    <tr>\n",
       "      <th>2</th>\n",
       "      <td>3</td>\n",
       "      <td>1</td>\n",
       "      <td>3</td>\n",
       "      <td>Heikkinen, Miss. Laina</td>\n",
       "      <td>female</td>\n",
       "      <td>26.0</td>\n",
       "      <td>0</td>\n",
       "      <td>0</td>\n",
       "      <td>STON/O2. 3101282</td>\n",
       "      <td>7.9250</td>\n",
       "      <td>NaN</td>\n",
       "      <td>S</td>\n",
       "    </tr>\n",
       "    <tr>\n",
       "      <th>3</th>\n",
       "      <td>4</td>\n",
       "      <td>1</td>\n",
       "      <td>1</td>\n",
       "      <td>Futrelle, Mrs. Jacques Heath (Lily May Peel)</td>\n",
       "      <td>female</td>\n",
       "      <td>35.0</td>\n",
       "      <td>1</td>\n",
       "      <td>0</td>\n",
       "      <td>113803</td>\n",
       "      <td>53.1000</td>\n",
       "      <td>C123</td>\n",
       "      <td>S</td>\n",
       "    </tr>\n",
       "    <tr>\n",
       "      <th>4</th>\n",
       "      <td>5</td>\n",
       "      <td>0</td>\n",
       "      <td>3</td>\n",
       "      <td>Allen, Mr. William Henry</td>\n",
       "      <td>male</td>\n",
       "      <td>35.0</td>\n",
       "      <td>0</td>\n",
       "      <td>0</td>\n",
       "      <td>373450</td>\n",
       "      <td>8.0500</td>\n",
       "      <td>NaN</td>\n",
       "      <td>S</td>\n",
       "    </tr>\n",
       "  </tbody>\n",
       "</table>\n",
       "</div>"
      ],
      "text/plain": [
       "   PassengerId  Survived  Pclass  \\\n",
       "0            1         0       3   \n",
       "1            2         1       1   \n",
       "2            3         1       3   \n",
       "3            4         1       1   \n",
       "4            5         0       3   \n",
       "\n",
       "                                                Name     Sex   Age  SibSp  \\\n",
       "0                            Braund, Mr. Owen Harris    male  22.0      1   \n",
       "1  Cumings, Mrs. John Bradley (Florence Briggs Th...  female  38.0      1   \n",
       "2                             Heikkinen, Miss. Laina  female  26.0      0   \n",
       "3       Futrelle, Mrs. Jacques Heath (Lily May Peel)  female  35.0      1   \n",
       "4                           Allen, Mr. William Henry    male  35.0      0   \n",
       "\n",
       "   Parch            Ticket     Fare Cabin Embarked  \n",
       "0      0         A/5 21171   7.2500   NaN        S  \n",
       "1      0          PC 17599  71.2833   C85        C  \n",
       "2      0  STON/O2. 3101282   7.9250   NaN        S  \n",
       "3      0            113803  53.1000  C123        S  \n",
       "4      0            373450   8.0500   NaN        S  "
      ]
     },
     "execution_count": 3,
     "metadata": {},
     "output_type": "execute_result"
    }
   ],
   "source": [
    "file_path = 'C:/Users/ok/Desktop/kaggel_titanic_project/Kaggle_titanic/Data/train.csv'\n",
    "data = pd.read_csv(file_path)\n",
    "data.head()"
   ]
  },
  {
   "cell_type": "code",
   "execution_count": 19,
   "metadata": {},
   "outputs": [
    {
     "data": {
      "text/plain": [
       "PassengerId    0\n",
       "Survived       0\n",
       "Pclass         0\n",
       "Name           0\n",
       "Sex            0\n",
       "Age            0\n",
       "SibSp          0\n",
       "Parch          0\n",
       "Ticket         0\n",
       "Fare           0\n",
       "Embarked       0\n",
       "dtype: int64"
      ]
     },
     "execution_count": 19,
     "metadata": {},
     "output_type": "execute_result"
    }
   ],
   "source": [
    "clean_data.isnull().sum()"
   ]
  },
  {
   "cell_type": "markdown",
   "metadata": {},
   "source": [
    "* From the above cell, we  can see that most of the columons have data in them (are not empty). But we can see that the cabin has the most Nan values(more than half). And the age columon also has the second most highest Nan values.\n",
    "\n",
    "* Hence since the cabin columon has more than 20% NaN value, i have decided to drop the cabin columon from the data, and impend the value for the age Nan values. And alos to for the two rows which has aNan value for the Embark columon"
   ]
  },
  {
   "cell_type": "code",
   "execution_count": 11,
   "metadata": {},
   "outputs": [],
   "source": [
    "#First lets drop the cabin column\n",
    "clean_data = data.drop('Cabin', axis='columns')"
   ]
  },
  {
   "cell_type": "code",
   "execution_count": 20,
   "metadata": {},
   "outputs": [
    {
     "ename": "NameError",
     "evalue": "name 'imputed_data' is not defined",
     "output_type": "error",
     "traceback": [
      "\u001b[1;31m---------------------------------------------------------------------------\u001b[0m",
      "\u001b[1;31mNameError\u001b[0m                                 Traceback (most recent call last)",
      "\u001b[1;32mc:\\Users\\ok\\Desktop\\kaggel_titanic_project\\Kaggle_titanic\\Data\\Clean Data.ipynb Cell 7\u001b[0m line \u001b[0;36m1\n\u001b[1;32m----> <a href='vscode-notebook-cell:/c%3A/Users/ok/Desktop/kaggel_titanic_project/Kaggle_titanic/Data/Clean%20Data.ipynb#X16sZmlsZQ%3D%3D?line=0'>1</a>\u001b[0m imputed_data\n",
      "\u001b[1;31mNameError\u001b[0m: name 'imputed_data' is not defined"
     ]
    }
   ],
   "source": [
    "imputed_data"
   ]
  },
  {
   "cell_type": "code",
   "execution_count": 17,
   "metadata": {},
   "outputs": [
    {
     "ename": "ValueError",
     "evalue": "Expected 2D array, got 1D array instead:\narray=[22.   38.   26.   35.   35.   54.    2.   27.   14.    4.   58.   20.\n 39.   14.   55.    2.   31.   35.   34.   15.   28.    8.   38.   19.\n 40.   66.   28.   42.   21.   18.   14.   40.   27.    3.   19.   18.\n  7.   21.   49.   29.   65.   21.   28.5   5.   11.   22.   45.    4.\n 29.   19.   17.   26.   32.   16.   21.   26.   32.   25.    0.83 30.\n 22.   29.   28.   17.   33.   16.   23.   24.   29.   20.   46.   26.\n 59.   71.   23.   34.   34.   28.   21.   33.   37.   28.   21.   38.\n 47.   14.5  22.   20.   17.   21.   70.5  29.   24.    2.   21.   32.5\n 32.5  54.   12.   24.   45.   33.   20.   47.   29.   25.   23.   19.\n 37.   16.   24.   22.   24.   19.   18.   19.   27.    9.   36.5  42.\n 51.   22.   55.5  40.5  51.   16.   30.   44.   40.   26.   17.    1.\n  9.   45.   28.   61.    4.    1.   21.   56.   18.   50.   30.   36.\n  9.    1.    4.   45.   40.   36.   32.   19.   19.    3.   44.   58.\n 42.   24.   28.   34.   45.5  18.    2.   32.   26.   16.   40.   24.\n 35.   22.   30.   31.   27.   42.   32.   30.   16.   27.   51.   38.\n 22.   19.   20.5  18.   35.   29.   59.    5.   24.   44.    8.   19.\n 33.   29.   22.   30.   44.   25.   24.   37.   54.   29.   62.   30.\n 41.   29.   30.   35.   50.    3.   52.   40.   36.   16.   25.   58.\n 35.   25.   41.   37.   63.   45.    7.   35.   65.   28.   16.   19.\n 33.   30.   22.   42.   22.   26.   19.   36.   24.   24.   23.5   2.\n 50.   19.    0.92 17.   30.   30.   24.   18.   26.   28.   43.   26.\n 24.   54.   31.   40.   22.   27.   30.   22.   36.   61.   36.   31.\n 16.   45.5  38.   16.   29.   41.   45.   45.    2.   24.   28.   25.\n 36.   24.   40.    3.   42.   23.   15.   25.   28.   22.   38.   40.\n 29.   45.   35.   30.   60.   24.   25.   18.   19.   22.    3.   22.\n 27.   20.   19.   42.    1.   32.   35.   18.    1.   36.   17.   36.\n 21.   28.   23.   24.   22.   31.   46.   23.   28.   39.   26.   21.\n 28.   20.   34.   51.    3.   21.   33.   44.   34.   18.   30.   10.\n 21.   29.   28.   18.   28.   19.   32.   28.   42.   17.   50.   14.\n 21.   24.   64.   31.   45.   20.   25.   28.    4.   13.   34.    5.\n 52.   36.   30.   49.   29.   65.   50.   48.   34.   47.   48.   38.\n 56.    0.75 38.   33.   23.   22.   34.   29.   22.    2.    9.   50.\n 63.   25.   35.   58.   30.    9.   21.   55.   71.   21.   54.   25.\n 24.   17.   21.   37.   16.   18.   33.   28.   26.   29.   36.   54.\n 24.   47.   34.   36.   32.   30.   22.   44.   40.5  50.   39.   23.\n  2.   17.   30.    7.   45.   30.   22.   36.    9.   11.   32.   50.\n 64.   19.   33.    8.   17.   27.   22.   22.   62.   48.   39.   36.\n 40.   28.   24.   19.   29.   32.   62.   53.   36.   16.   19.   34.\n 39.   32.   25.   39.   54.   36.   18.   47.   60.   22.   35.   52.\n 47.   37.   36.   49.   49.   24.   44.   35.   36.   30.   27.   22.\n 40.   39.   35.   24.   34.   26.    4.   26.   27.   42.   20.   21.\n 21.   61.   57.   21.   26.   80.   51.   32.    9.   28.   32.   31.\n 41.   20.   24.    2.    0.75 48.   19.   56.   23.   18.   21.   18.\n 24.   32.   23.   58.   50.   40.   47.   36.   20.   32.   25.   43.\n 40.   31.   70.   31.   18.   24.5  18.   43.   36.   27.   20.   14.\n 60.   25.   14.   19.   18.   15.   31.    4.   25.   60.   52.   44.\n 49.   42.   18.   35.   18.   25.   26.   39.   45.   42.   22.   24.\n 48.   29.   52.   19.   38.   27.   33.    6.   17.   34.   50.   27.\n 20.   30.   25.   25.   29.   11.   23.   23.   28.5  48.   35.   36.\n 21.   24.   31.   70.   16.   30.   19.   31.    4.    6.   33.   23.\n 48.    0.67 28.   18.   34.   33.   41.   20.   36.   16.   51.   30.5\n 32.   24.   48.   57.   54.   18.    5.   43.   13.   17.   29.   25.\n 25.   18.    8.    1.   46.   16.   25.   39.   49.   31.   30.   30.\n 34.   31.   11.    0.42 27.   31.   39.   18.   39.   33.   26.   39.\n 35.    6.   30.5  23.   31.   43.   10.   52.   27.   38.   27.    2.\n  1.   15.    0.83 23.   18.   39.   21.   32.   20.   16.   30.   34.5\n 17.   42.   35.   28.    4.   74.    9.   16.   44.   18.   45.   51.\n 24.   41.   21.   48.   24.   42.   27.   31.    4.   26.   47.   33.\n 47.   28.   15.   20.   19.   56.   25.   33.   22.   28.   25.   39.\n 27.   19.   26.   32.  ].\nReshape your data either using array.reshape(-1, 1) if your data has a single feature or array.reshape(1, -1) if it contains a single sample.",
     "output_type": "error",
     "traceback": [
      "\u001b[1;31m---------------------------------------------------------------------------\u001b[0m",
      "\u001b[1;31mValueError\u001b[0m                                Traceback (most recent call last)",
      "\u001b[1;32mc:\\Users\\ok\\Desktop\\kaggel_titanic_project\\Kaggle_titanic\\Data\\Clean Data.ipynb Cell 7\u001b[0m line \u001b[0;36m4\n\u001b[0;32m      <a href='vscode-notebook-cell:/c%3A/Users/ok/Desktop/kaggel_titanic_project/Kaggle_titanic/Data/Clean%20Data.ipynb#W6sZmlsZQ%3D%3D?line=1'>2</a>\u001b[0m \u001b[39mfrom\u001b[39;00m \u001b[39msklearn\u001b[39;00m\u001b[39m.\u001b[39;00m\u001b[39mimpute\u001b[39;00m \u001b[39mimport\u001b[39;00m SimpleImputer\n\u001b[0;32m      <a href='vscode-notebook-cell:/c%3A/Users/ok/Desktop/kaggel_titanic_project/Kaggle_titanic/Data/Clean%20Data.ipynb#W6sZmlsZQ%3D%3D?line=2'>3</a>\u001b[0m my_imputer \u001b[39m=\u001b[39m SimpleImputer()\n\u001b[1;32m----> <a href='vscode-notebook-cell:/c%3A/Users/ok/Desktop/kaggel_titanic_project/Kaggle_titanic/Data/Clean%20Data.ipynb#W6sZmlsZQ%3D%3D?line=3'>4</a>\u001b[0m imputed_data \u001b[39m=\u001b[39m pd\u001b[39m.\u001b[39mDataFrame(my_imputer\u001b[39m.\u001b[39;49mfit_transform(clean_data[\u001b[39m'\u001b[39;49m\u001b[39mAge\u001b[39;49m\u001b[39m'\u001b[39;49m]))\n",
      "File \u001b[1;32mc:\\Users\\ok\\anaconda3\\lib\\site-packages\\sklearn\\utils\\_set_output.py:142\u001b[0m, in \u001b[0;36m_wrap_method_output.<locals>.wrapped\u001b[1;34m(self, X, *args, **kwargs)\u001b[0m\n\u001b[0;32m    140\u001b[0m \u001b[39m@wraps\u001b[39m(f)\n\u001b[0;32m    141\u001b[0m \u001b[39mdef\u001b[39;00m \u001b[39mwrapped\u001b[39m(\u001b[39mself\u001b[39m, X, \u001b[39m*\u001b[39margs, \u001b[39m*\u001b[39m\u001b[39m*\u001b[39mkwargs):\n\u001b[1;32m--> 142\u001b[0m     data_to_wrap \u001b[39m=\u001b[39m f(\u001b[39mself\u001b[39m, X, \u001b[39m*\u001b[39margs, \u001b[39m*\u001b[39m\u001b[39m*\u001b[39mkwargs)\n\u001b[0;32m    143\u001b[0m     \u001b[39mif\u001b[39;00m \u001b[39misinstance\u001b[39m(data_to_wrap, \u001b[39mtuple\u001b[39m):\n\u001b[0;32m    144\u001b[0m         \u001b[39m# only wrap the first output for cross decomposition\u001b[39;00m\n\u001b[0;32m    145\u001b[0m         \u001b[39mreturn\u001b[39;00m (\n\u001b[0;32m    146\u001b[0m             _wrap_data_with_container(method, data_to_wrap[\u001b[39m0\u001b[39m], X, \u001b[39mself\u001b[39m),\n\u001b[0;32m    147\u001b[0m             \u001b[39m*\u001b[39mdata_to_wrap[\u001b[39m1\u001b[39m:],\n\u001b[0;32m    148\u001b[0m         )\n",
      "File \u001b[1;32mc:\\Users\\ok\\anaconda3\\lib\\site-packages\\sklearn\\base.py:859\u001b[0m, in \u001b[0;36mTransformerMixin.fit_transform\u001b[1;34m(self, X, y, **fit_params)\u001b[0m\n\u001b[0;32m    855\u001b[0m \u001b[39m# non-optimized default implementation; override when a better\u001b[39;00m\n\u001b[0;32m    856\u001b[0m \u001b[39m# method is possible for a given clustering algorithm\u001b[39;00m\n\u001b[0;32m    857\u001b[0m \u001b[39mif\u001b[39;00m y \u001b[39mis\u001b[39;00m \u001b[39mNone\u001b[39;00m:\n\u001b[0;32m    858\u001b[0m     \u001b[39m# fit method of arity 1 (unsupervised transformation)\u001b[39;00m\n\u001b[1;32m--> 859\u001b[0m     \u001b[39mreturn\u001b[39;00m \u001b[39mself\u001b[39m\u001b[39m.\u001b[39mfit(X, \u001b[39m*\u001b[39m\u001b[39m*\u001b[39mfit_params)\u001b[39m.\u001b[39mtransform(X)\n\u001b[0;32m    860\u001b[0m \u001b[39melse\u001b[39;00m:\n\u001b[0;32m    861\u001b[0m     \u001b[39m# fit method of arity 2 (supervised transformation)\u001b[39;00m\n\u001b[0;32m    862\u001b[0m     \u001b[39mreturn\u001b[39;00m \u001b[39mself\u001b[39m\u001b[39m.\u001b[39mfit(X, y, \u001b[39m*\u001b[39m\u001b[39m*\u001b[39mfit_params)\u001b[39m.\u001b[39mtransform(X)\n",
      "File \u001b[1;32mc:\\Users\\ok\\anaconda3\\lib\\site-packages\\sklearn\\impute\\_base.py:390\u001b[0m, in \u001b[0;36mSimpleImputer.fit\u001b[1;34m(self, X, y)\u001b[0m\n\u001b[0;32m    381\u001b[0m \u001b[39mif\u001b[39;00m \u001b[39mself\u001b[39m\u001b[39m.\u001b[39mverbose \u001b[39m!=\u001b[39m \u001b[39m\"\u001b[39m\u001b[39mdeprecated\u001b[39m\u001b[39m\"\u001b[39m:\n\u001b[0;32m    382\u001b[0m     warnings\u001b[39m.\u001b[39mwarn(\n\u001b[0;32m    383\u001b[0m         \u001b[39m\"\u001b[39m\u001b[39mThe \u001b[39m\u001b[39m'\u001b[39m\u001b[39mverbose\u001b[39m\u001b[39m'\u001b[39m\u001b[39m parameter was deprecated in version \u001b[39m\u001b[39m\"\u001b[39m\n\u001b[0;32m    384\u001b[0m         \u001b[39m\"\u001b[39m\u001b[39m1.1 and will be removed in 1.3. A warning will \u001b[39m\u001b[39m\"\u001b[39m\n\u001b[1;32m   (...)\u001b[0m\n\u001b[0;32m    387\u001b[0m         \u001b[39mFutureWarning\u001b[39;00m,\n\u001b[0;32m    388\u001b[0m     )\n\u001b[1;32m--> 390\u001b[0m X \u001b[39m=\u001b[39m \u001b[39mself\u001b[39;49m\u001b[39m.\u001b[39;49m_validate_input(X, in_fit\u001b[39m=\u001b[39;49m\u001b[39mTrue\u001b[39;49;00m)\n\u001b[0;32m    392\u001b[0m \u001b[39m# default fill_value is 0 for numerical input and \"missing_value\"\u001b[39;00m\n\u001b[0;32m    393\u001b[0m \u001b[39m# otherwise\u001b[39;00m\n\u001b[0;32m    394\u001b[0m \u001b[39mif\u001b[39;00m \u001b[39mself\u001b[39m\u001b[39m.\u001b[39mfill_value \u001b[39mis\u001b[39;00m \u001b[39mNone\u001b[39;00m:\n",
      "File \u001b[1;32mc:\\Users\\ok\\anaconda3\\lib\\site-packages\\sklearn\\impute\\_base.py:344\u001b[0m, in \u001b[0;36mSimpleImputer._validate_input\u001b[1;34m(self, X, in_fit)\u001b[0m\n\u001b[0;32m    342\u001b[0m         \u001b[39mraise\u001b[39;00m new_ve \u001b[39mfrom\u001b[39;00m \u001b[39mNone\u001b[39m\n\u001b[0;32m    343\u001b[0m     \u001b[39melse\u001b[39;00m:\n\u001b[1;32m--> 344\u001b[0m         \u001b[39mraise\u001b[39;00m ve\n\u001b[0;32m    346\u001b[0m \u001b[39mif\u001b[39;00m in_fit:\n\u001b[0;32m    347\u001b[0m     \u001b[39m# Use the dtype seen in `fit` for non-`fit` conversion\u001b[39;00m\n\u001b[0;32m    348\u001b[0m     \u001b[39mself\u001b[39m\u001b[39m.\u001b[39m_fit_dtype \u001b[39m=\u001b[39m X\u001b[39m.\u001b[39mdtype\n",
      "File \u001b[1;32mc:\\Users\\ok\\anaconda3\\lib\\site-packages\\sklearn\\impute\\_base.py:327\u001b[0m, in \u001b[0;36mSimpleImputer._validate_input\u001b[1;34m(self, X, in_fit)\u001b[0m\n\u001b[0;32m    324\u001b[0m     force_all_finite \u001b[39m=\u001b[39m \u001b[39mTrue\u001b[39;00m\n\u001b[0;32m    326\u001b[0m \u001b[39mtry\u001b[39;00m:\n\u001b[1;32m--> 327\u001b[0m     X \u001b[39m=\u001b[39m \u001b[39mself\u001b[39;49m\u001b[39m.\u001b[39;49m_validate_data(\n\u001b[0;32m    328\u001b[0m         X,\n\u001b[0;32m    329\u001b[0m         reset\u001b[39m=\u001b[39;49min_fit,\n\u001b[0;32m    330\u001b[0m         accept_sparse\u001b[39m=\u001b[39;49m\u001b[39m\"\u001b[39;49m\u001b[39mcsc\u001b[39;49m\u001b[39m\"\u001b[39;49m,\n\u001b[0;32m    331\u001b[0m         dtype\u001b[39m=\u001b[39;49mdtype,\n\u001b[0;32m    332\u001b[0m         force_all_finite\u001b[39m=\u001b[39;49mforce_all_finite,\n\u001b[0;32m    333\u001b[0m         copy\u001b[39m=\u001b[39;49m\u001b[39mself\u001b[39;49m\u001b[39m.\u001b[39;49mcopy,\n\u001b[0;32m    334\u001b[0m     )\n\u001b[0;32m    335\u001b[0m \u001b[39mexcept\u001b[39;00m \u001b[39mValueError\u001b[39;00m \u001b[39mas\u001b[39;00m ve:\n\u001b[0;32m    336\u001b[0m     \u001b[39mif\u001b[39;00m \u001b[39m\"\u001b[39m\u001b[39mcould not convert\u001b[39m\u001b[39m\"\u001b[39m \u001b[39min\u001b[39;00m \u001b[39mstr\u001b[39m(ve):\n",
      "File \u001b[1;32mc:\\Users\\ok\\anaconda3\\lib\\site-packages\\sklearn\\base.py:546\u001b[0m, in \u001b[0;36mBaseEstimator._validate_data\u001b[1;34m(self, X, y, reset, validate_separately, **check_params)\u001b[0m\n\u001b[0;32m    544\u001b[0m     \u001b[39mraise\u001b[39;00m \u001b[39mValueError\u001b[39;00m(\u001b[39m\"\u001b[39m\u001b[39mValidation should be done on X, y or both.\u001b[39m\u001b[39m\"\u001b[39m)\n\u001b[0;32m    545\u001b[0m \u001b[39melif\u001b[39;00m \u001b[39mnot\u001b[39;00m no_val_X \u001b[39mand\u001b[39;00m no_val_y:\n\u001b[1;32m--> 546\u001b[0m     X \u001b[39m=\u001b[39m check_array(X, input_name\u001b[39m=\u001b[39m\u001b[39m\"\u001b[39m\u001b[39mX\u001b[39m\u001b[39m\"\u001b[39m, \u001b[39m*\u001b[39m\u001b[39m*\u001b[39mcheck_params)\n\u001b[0;32m    547\u001b[0m     out \u001b[39m=\u001b[39m X\n\u001b[0;32m    548\u001b[0m \u001b[39melif\u001b[39;00m no_val_X \u001b[39mand\u001b[39;00m \u001b[39mnot\u001b[39;00m no_val_y:\n",
      "File \u001b[1;32mc:\\Users\\ok\\anaconda3\\lib\\site-packages\\sklearn\\utils\\validation.py:902\u001b[0m, in \u001b[0;36mcheck_array\u001b[1;34m(array, accept_sparse, accept_large_sparse, dtype, order, copy, force_all_finite, ensure_2d, allow_nd, ensure_min_samples, ensure_min_features, estimator, input_name)\u001b[0m\n\u001b[0;32m    900\u001b[0m     \u001b[39m# If input is 1D raise error\u001b[39;00m\n\u001b[0;32m    901\u001b[0m     \u001b[39mif\u001b[39;00m array\u001b[39m.\u001b[39mndim \u001b[39m==\u001b[39m \u001b[39m1\u001b[39m:\n\u001b[1;32m--> 902\u001b[0m         \u001b[39mraise\u001b[39;00m \u001b[39mValueError\u001b[39;00m(\n\u001b[0;32m    903\u001b[0m             \u001b[39m\"\u001b[39m\u001b[39mExpected 2D array, got 1D array instead:\u001b[39m\u001b[39m\\n\u001b[39;00m\u001b[39marray=\u001b[39m\u001b[39m{}\u001b[39;00m\u001b[39m.\u001b[39m\u001b[39m\\n\u001b[39;00m\u001b[39m\"\u001b[39m\n\u001b[0;32m    904\u001b[0m             \u001b[39m\"\u001b[39m\u001b[39mReshape your data either using array.reshape(-1, 1) if \u001b[39m\u001b[39m\"\u001b[39m\n\u001b[0;32m    905\u001b[0m             \u001b[39m\"\u001b[39m\u001b[39myour data has a single feature or array.reshape(1, -1) \u001b[39m\u001b[39m\"\u001b[39m\n\u001b[0;32m    906\u001b[0m             \u001b[39m\"\u001b[39m\u001b[39mif it contains a single sample.\u001b[39m\u001b[39m\"\u001b[39m\u001b[39m.\u001b[39mformat(array)\n\u001b[0;32m    907\u001b[0m         )\n\u001b[0;32m    909\u001b[0m \u001b[39mif\u001b[39;00m dtype_numeric \u001b[39mand\u001b[39;00m array\u001b[39m.\u001b[39mdtype\u001b[39m.\u001b[39mkind \u001b[39min\u001b[39;00m \u001b[39m\"\u001b[39m\u001b[39mUSV\u001b[39m\u001b[39m\"\u001b[39m:\n\u001b[0;32m    910\u001b[0m     \u001b[39mraise\u001b[39;00m \u001b[39mValueError\u001b[39;00m(\n\u001b[0;32m    911\u001b[0m         \u001b[39m\"\u001b[39m\u001b[39mdtype=\u001b[39m\u001b[39m'\u001b[39m\u001b[39mnumeric\u001b[39m\u001b[39m'\u001b[39m\u001b[39m is not compatible with arrays of bytes/strings.\u001b[39m\u001b[39m\"\u001b[39m\n\u001b[0;32m    912\u001b[0m         \u001b[39m\"\u001b[39m\u001b[39mConvert your data to numeric values explicitly instead.\u001b[39m\u001b[39m\"\u001b[39m\n\u001b[0;32m    913\u001b[0m     )\n",
      "\u001b[1;31mValueError\u001b[0m: Expected 2D array, got 1D array instead:\narray=[22.   38.   26.   35.   35.   54.    2.   27.   14.    4.   58.   20.\n 39.   14.   55.    2.   31.   35.   34.   15.   28.    8.   38.   19.\n 40.   66.   28.   42.   21.   18.   14.   40.   27.    3.   19.   18.\n  7.   21.   49.   29.   65.   21.   28.5   5.   11.   22.   45.    4.\n 29.   19.   17.   26.   32.   16.   21.   26.   32.   25.    0.83 30.\n 22.   29.   28.   17.   33.   16.   23.   24.   29.   20.   46.   26.\n 59.   71.   23.   34.   34.   28.   21.   33.   37.   28.   21.   38.\n 47.   14.5  22.   20.   17.   21.   70.5  29.   24.    2.   21.   32.5\n 32.5  54.   12.   24.   45.   33.   20.   47.   29.   25.   23.   19.\n 37.   16.   24.   22.   24.   19.   18.   19.   27.    9.   36.5  42.\n 51.   22.   55.5  40.5  51.   16.   30.   44.   40.   26.   17.    1.\n  9.   45.   28.   61.    4.    1.   21.   56.   18.   50.   30.   36.\n  9.    1.    4.   45.   40.   36.   32.   19.   19.    3.   44.   58.\n 42.   24.   28.   34.   45.5  18.    2.   32.   26.   16.   40.   24.\n 35.   22.   30.   31.   27.   42.   32.   30.   16.   27.   51.   38.\n 22.   19.   20.5  18.   35.   29.   59.    5.   24.   44.    8.   19.\n 33.   29.   22.   30.   44.   25.   24.   37.   54.   29.   62.   30.\n 41.   29.   30.   35.   50.    3.   52.   40.   36.   16.   25.   58.\n 35.   25.   41.   37.   63.   45.    7.   35.   65.   28.   16.   19.\n 33.   30.   22.   42.   22.   26.   19.   36.   24.   24.   23.5   2.\n 50.   19.    0.92 17.   30.   30.   24.   18.   26.   28.   43.   26.\n 24.   54.   31.   40.   22.   27.   30.   22.   36.   61.   36.   31.\n 16.   45.5  38.   16.   29.   41.   45.   45.    2.   24.   28.   25.\n 36.   24.   40.    3.   42.   23.   15.   25.   28.   22.   38.   40.\n 29.   45.   35.   30.   60.   24.   25.   18.   19.   22.    3.   22.\n 27.   20.   19.   42.    1.   32.   35.   18.    1.   36.   17.   36.\n 21.   28.   23.   24.   22.   31.   46.   23.   28.   39.   26.   21.\n 28.   20.   34.   51.    3.   21.   33.   44.   34.   18.   30.   10.\n 21.   29.   28.   18.   28.   19.   32.   28.   42.   17.   50.   14.\n 21.   24.   64.   31.   45.   20.   25.   28.    4.   13.   34.    5.\n 52.   36.   30.   49.   29.   65.   50.   48.   34.   47.   48.   38.\n 56.    0.75 38.   33.   23.   22.   34.   29.   22.    2.    9.   50.\n 63.   25.   35.   58.   30.    9.   21.   55.   71.   21.   54.   25.\n 24.   17.   21.   37.   16.   18.   33.   28.   26.   29.   36.   54.\n 24.   47.   34.   36.   32.   30.   22.   44.   40.5  50.   39.   23.\n  2.   17.   30.    7.   45.   30.   22.   36.    9.   11.   32.   50.\n 64.   19.   33.    8.   17.   27.   22.   22.   62.   48.   39.   36.\n 40.   28.   24.   19.   29.   32.   62.   53.   36.   16.   19.   34.\n 39.   32.   25.   39.   54.   36.   18.   47.   60.   22.   35.   52.\n 47.   37.   36.   49.   49.   24.   44.   35.   36.   30.   27.   22.\n 40.   39.   35.   24.   34.   26.    4.   26.   27.   42.   20.   21.\n 21.   61.   57.   21.   26.   80.   51.   32.    9.   28.   32.   31.\n 41.   20.   24.    2.    0.75 48.   19.   56.   23.   18.   21.   18.\n 24.   32.   23.   58.   50.   40.   47.   36.   20.   32.   25.   43.\n 40.   31.   70.   31.   18.   24.5  18.   43.   36.   27.   20.   14.\n 60.   25.   14.   19.   18.   15.   31.    4.   25.   60.   52.   44.\n 49.   42.   18.   35.   18.   25.   26.   39.   45.   42.   22.   24.\n 48.   29.   52.   19.   38.   27.   33.    6.   17.   34.   50.   27.\n 20.   30.   25.   25.   29.   11.   23.   23.   28.5  48.   35.   36.\n 21.   24.   31.   70.   16.   30.   19.   31.    4.    6.   33.   23.\n 48.    0.67 28.   18.   34.   33.   41.   20.   36.   16.   51.   30.5\n 32.   24.   48.   57.   54.   18.    5.   43.   13.   17.   29.   25.\n 25.   18.    8.    1.   46.   16.   25.   39.   49.   31.   30.   30.\n 34.   31.   11.    0.42 27.   31.   39.   18.   39.   33.   26.   39.\n 35.    6.   30.5  23.   31.   43.   10.   52.   27.   38.   27.    2.\n  1.   15.    0.83 23.   18.   39.   21.   32.   20.   16.   30.   34.5\n 17.   42.   35.   28.    4.   74.    9.   16.   44.   18.   45.   51.\n 24.   41.   21.   48.   24.   42.   27.   31.    4.   26.   47.   33.\n 47.   28.   15.   20.   19.   56.   25.   33.   22.   28.   25.   39.\n 27.   19.   26.   32.  ].\nReshape your data either using array.reshape(-1, 1) if your data has a single feature or array.reshape(1, -1) if it contains a single sample."
     ]
    }
   ],
   "source": [
    "# Now lets fill in the Nan values of the age by imputation\n",
    "from sklearn.impute import SimpleImputer\n",
    "my_imputer = SimpleImputer()\n",
    "imputed_data = pd.DataFrame(my_imputer.fit_transform(clean_data['Age']))\n",
    "imputed_data.columns = clean_data.columns\n",
    "#clean_data['Age'].fillna(int(clean_data['Age'].mean()), inplace=True)"
   ]
  },
  {
   "cell_type": "code",
   "execution_count": 23,
   "metadata": {},
   "outputs": [
    {
     "data": {
      "text/plain": [
       "(712,)"
      ]
     },
     "execution_count": 23,
     "metadata": {},
     "output_type": "execute_result"
    }
   ],
   "source": [
    "clean_data.Age.shape"
   ]
  },
  {
   "cell_type": "code",
   "execution_count": 15,
   "metadata": {},
   "outputs": [],
   "source": [
    "#Finally lets drop the rows with the missing values\n",
    "clean_data = clean_data.dropna()"
   ]
  },
  {
   "cell_type": "code",
   "execution_count": 8,
   "metadata": {},
   "outputs": [
    {
     "data": {
      "text/plain": [
       "<bound method NDFrame.describe of      PassengerId  Survived  Pclass  \\\n",
       "0              1         0       3   \n",
       "1              2         1       1   \n",
       "2              3         1       3   \n",
       "3              4         1       1   \n",
       "4              5         0       3   \n",
       "..           ...       ...     ...   \n",
       "886          887         0       2   \n",
       "887          888         1       1   \n",
       "888          889         0       3   \n",
       "889          890         1       1   \n",
       "890          891         0       3   \n",
       "\n",
       "                                                  Name     Sex   Age  SibSp  \\\n",
       "0                              Braund, Mr. Owen Harris    male  22.0      1   \n",
       "1    Cumings, Mrs. John Bradley (Florence Briggs Th...  female  38.0      1   \n",
       "2                               Heikkinen, Miss. Laina  female  26.0      0   \n",
       "3         Futrelle, Mrs. Jacques Heath (Lily May Peel)  female  35.0      1   \n",
       "4                             Allen, Mr. William Henry    male  35.0      0   \n",
       "..                                                 ...     ...   ...    ...   \n",
       "886                              Montvila, Rev. Juozas    male  27.0      0   \n",
       "887                       Graham, Miss. Margaret Edith  female  19.0      0   \n",
       "888           Johnston, Miss. Catherine Helen \"Carrie\"  female  29.0      1   \n",
       "889                              Behr, Mr. Karl Howell    male  26.0      0   \n",
       "890                                Dooley, Mr. Patrick    male  32.0      0   \n",
       "\n",
       "     Parch            Ticket     Fare Embarked  \n",
       "0        0         A/5 21171   7.2500        S  \n",
       "1        0          PC 17599  71.2833        C  \n",
       "2        0  STON/O2. 3101282   7.9250        S  \n",
       "3        0            113803  53.1000        S  \n",
       "4        0            373450   8.0500        S  \n",
       "..     ...               ...      ...      ...  \n",
       "886      0            211536  13.0000        S  \n",
       "887      0            112053  30.0000        S  \n",
       "888      2        W./C. 6607  23.4500        S  \n",
       "889      0            111369  30.0000        C  \n",
       "890      0            370376   7.7500        Q  \n",
       "\n",
       "[889 rows x 11 columns]>"
      ]
     },
     "execution_count": 8,
     "metadata": {},
     "output_type": "execute_result"
    }
   ],
   "source": [
    "clean_data.describe"
   ]
  },
  {
   "cell_type": "code",
   "execution_count": 23,
   "metadata": {},
   "outputs": [
    {
     "data": {
      "text/plain": [
       "<Axes: xlabel='Fare', ylabel='Count'>"
      ]
     },
     "execution_count": 23,
     "metadata": {},
     "output_type": "execute_result"
    },
    {
     "data": {
      "image/png": "[encoded data removed]",
      "text/plain": [
       "<Figure size 2000x600 with 1 Axes>"
      ]
     },
     "metadata": {},
     "output_type": "display_data"
    }
   ],
   "source": [
    "plt.figure(figsize=(20,6))\n",
    "sns.histplot(clean_data['Fare'])"
   ]
  },
  {
   "cell_type": "code",
   "execution_count": 25,
   "metadata": {},
   "outputs": [],
   "source": [
    "clean_data.to_csv('clean_data')"
   ]
  }
 ],
 "metadata": {
  "kernelspec": {
   "display_name": "base",
   "language": "python",
   "name": "python3"
  },
  "language_info": {
   "codemirror_mode": {
    "name": "ipython",
    "version": 3
   },
   "file_extension": ".py",
   "mimetype": "text/x-python",
   "name": "python",
   "nbconvert_exporter": "python",
   "pygments_lexer": "ipython3",
   "version": "3.10.9"
  },
  "orig_nbformat": 4
 },
 "nbformat": 4,
 "nbformat_minor": 2
}
